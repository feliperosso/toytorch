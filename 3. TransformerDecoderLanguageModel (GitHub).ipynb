{
  "cells": [
    {
      "cell_type": "markdown",
      "metadata": {
        "id": "VgwrNomi9oZV"
      },
      "source": [
        "# <u> The Beatles lyrics generator with Transformer model <u>"
      ]
    },
    {
      "cell_type": "markdown",
      "metadata": {
        "id": "owoep_7l9xyI"
      },
      "source": [
        "In this notebook we are going to train a Transformer language model on the lyrics of all songs of The Beatles. Once the model has been trained, we will be able to generate lyrics for a song in the style of The Beatles."
      ]
    },
    {
      "cell_type": "code",
      "execution_count": 2,
      "metadata": {
        "id": "9GW0alKs-G85"
      },
      "outputs": [],
      "source": [
        "# Load from torch package\n",
        "import torch\n",
        "from torch.utils.data import DataLoader\n",
        "\n",
        "# Load from toytorch package\n",
        "from toytorch.models import TransformerDecoderOnly\n",
        "from toytorch.datasets.load import load_txt_data\n",
        "from toytorch.data_utils import WordDataProcessor"
      ]
    },
    {
      "cell_type": "markdown",
      "metadata": {
        "id": "I0czTCnY-Kzo"
      },
      "source": [
        "### Load and process data"
      ]
    },
    {
      "cell_type": "markdown",
      "metadata": {
        "id": "llY9GrvD-arY"
      },
      "source": [
        "We first load a .txt file included in toytorch which has the lyrics of all Beatles songs. The \"load_txt_data\" function takes care of loading. The \"WordDataProcessor\" defined in toytorch.data_utils takes the data and constructs the vocabulary using a word tokenizer based on the splitting of the string according to the backspace '\\b'. The instance \"data_processor\" can also directly be used as the input of the torch DataLoader, which requires picking a batch_size used during training."
      ]
    },
    {
      "cell_type": "code",
      "execution_count": 4,
      "metadata": {
        "colab": {
          "base_uri": "https://localhost:8080/"
        },
        "id": "HzgvSeU7-PhV",
        "outputId": "ca26041b-a257-4263-b297-af14f3160ebd"
      },
      "outputs": [
        {
          "name": "stdout",
          "output_type": "stream",
          "text": [
            "\n",
            "Can't buy me love, oh\n",
            "Everybody tells me so\n",
            "Can't buy me love, oh\n",
            "No, no, no, no\n",
            "\n",
            "Say you don't need no diamond rings\n",
            "And I'll be satisfied\n",
            "Tell me that you want the kind of things\n",
            "That money just can't buy\n",
            "\n",
            "I don't care too much for money\n",
            "Money can't buy me love, ow\n",
            "\n",
            " --------------------------------- \n",
            "\n",
            "Total number of tokens: 75,515\n",
            "Vocabulary size: 3,014\n",
            "Tokens in 1 epoch of training: 2,415,456\n"
          ]
        }
      ],
      "source": [
        "# Load data\n",
        "full_text = load_txt_data(\"Beatles.txt\")\n",
        "print(full_text[1140:1410],'--------------------------------- \\n')\n",
        "\n",
        "# Tokenize text and create vocabulary\n",
        "sequence_length = 32 # 256\n",
        "data_processor = WordDataProcessor(full_text, sequence_length)\n",
        "\n",
        "# Create Data Loader\n",
        "batch_size = 64 # 128\n",
        "data_loader = DataLoader(data_processor, batch_size, shuffle=True, pin_memory=True)"
      ]
    },
    {
      "cell_type": "markdown",
      "metadata": {
        "id": "AbA7Uef8Kzwo"
      },
      "source": [
        "### Initialize Model"
      ]
    },
    {
      "cell_type": "markdown",
      "metadata": {
        "id": "TwVitpWV-z16"
      },
      "source": [
        "We now import and initialize the \"TransformerDecoderOnly\" we built in the models.py module in toytorch. This model uses several layers from the layers.py module, including Embedding, PositionalEncoding, MultiheadAttention and Linear, among others (see the toytorch package for more details)."
      ]
    },
    {
      "cell_type": "code",
      "execution_count": 5,
      "metadata": {
        "colab": {
          "base_uri": "https://localhost:8080/"
        },
        "id": "3fOdCrdzKzwo",
        "outputId": "77587174-7753-49d0-d743-6182e20f2201"
      },
      "outputs": [
        {
          "name": "stdout",
          "output_type": "stream",
          "text": [
            "Number of parameters in model: 20,445,184\n"
          ]
        }
      ],
      "source": [
        "# Parameters\n",
        "vocab_dim = data_processor.vocabulary_size\n",
        "embed_dim = 512\n",
        "num_layers = 6\n",
        "num_heads = 8\n",
        "dim_ff = 4*embed_dim\n",
        "dropout_rate = 0.1\n",
        "\n",
        "# Initialize model\n",
        "torch.manual_seed(0)\n",
        "model = TransformerDecoderOnly(vocab_dim, embed_dim, num_layers, num_heads, dim_ff, dropout_rate)"
      ]
    },
    {
      "cell_type": "markdown",
      "metadata": {
        "id": "N-QXT83SKzwp"
      },
      "source": [
        "### Train Model"
      ]
    },
    {
      "cell_type": "markdown",
      "metadata": {
        "id": "7bQ7ZVAEA2y1"
      },
      "source": [
        "The model is trained on a GPU using the \".train_model\" method in the class TransformerDecoderOnly (see models.py in toytorch)"
      ]
    },
    {
      "cell_type": "code",
      "execution_count": 6,
      "metadata": {
        "colab": {
          "base_uri": "https://localhost:8080/",
          "height": 554,
          "referenced_widgets": [
            "896e600b26e94e2bbc0d80f129397770",
            "83d46cc71db244aab6b28cdb7cc5a783",
            "97e60be9597640129e028c7e69eee131",
            "55d9ba6821754aa8ad30da2d3fdb95a2",
            "c6bd686b7ec84c3c82efa2796ad6ea51",
            "2571b3813cd547d0bacf29ba29091594",
            "e6268931161642ac97ebba371b113957",
            "c0a1954608d347e2b3730c6948ebdc8d",
            "1f174ed30cc446ec9582080fe4de3731",
            "8d6619d2816e4204b6788ac068951c33",
            "a025046422764ab4bc295eb69a40bdc9",
            "1d6dc3821297455d804c1c0ddf5d6fcb",
            "e292be7255e14423a362a2032b802d4a",
            "fe7884398061448e80559d691271a636",
            "dbbe636f0df240b58318e65b04774630",
            "6d43e970f4f5403c8132c7db014c827d",
            "e6b2047cd26944d782b4c3ba5cb42cde",
            "2f7c94c860e44bae8595938c1e5c83c2",
            "3c14ee5617d447828e38f50a9a6ac6e4",
            "b29dd91b70e040678eeea05679ebe92e",
            "1c92e78753a842dfb7f7c3c85af4b332",
            "e3e2821c38b645e0995d2c042209572b"
          ]
        },
        "id": "GL5_ZOMynS0K",
        "outputId": "92628f9b-79e5-4fd6-8581-d2b577109238"
      },
      "outputs": [
        {
          "name": "stdout",
          "output_type": "stream",
          "text": [
            "The device is: cuda\n"
          ]
        },
        {
          "data": {
            "application/vnd.jupyter.widget-view+json": {
              "model_id": "896e600b26e94e2bbc0d80f129397770",
              "version_major": 2,
              "version_minor": 0
            },
            "text/plain": [
              "  0%|          | 0/1180 [00:00<?, ?it/s]"
            ]
          },
          "metadata": {},
          "output_type": "display_data"
        },
        {
          "data": {
            "application/vnd.jupyter.widget-view+json": {
              "model_id": "1d6dc3821297455d804c1c0ddf5d6fcb",
              "version_major": 2,
              "version_minor": 0
            },
            "text/plain": [
              "  0%|          | 0/1180 [00:00<?, ?it/s]"
            ]
          },
          "metadata": {},
          "output_type": "display_data"
        },
        {
          "data": {
            "image/png": "[encoded data removed]",
            "text/plain": [
              "<Figure size 640x480 with 1 Axes>"
            ]
          },
          "metadata": {},
          "output_type": "display_data"
        }
      ],
      "source": [
        "# Choose device\n",
        "device = torch.device('cuda' if torch.cuda.is_available() else 'cpu')\n",
        "print(f'The device is: {device}')\n",
        "\n",
        "# Parameters \n",
        "optimizer = torch.optim.Adam(model.parameters(), lr=6e-4)\n",
        "epochs = 2\n",
        "\n",
        "training_tokens, training_loss = model.train_model(data_loader, optimizer, epochs,\n",
        "                                                 device, learning_schedule=True)"
      ]
    },
    {
      "cell_type": "markdown",
      "metadata": {
        "id": "Mq0r8U1fBB17"
      },
      "source": [
        "We have only trained it for a couple of epochs because we do not want the model to overtrain and simply memorize the lyrics."
      ]
    },
    {
      "cell_type": "markdown",
      "metadata": {
        "id": "7yGxrwRBb62B"
      },
      "source": [
        "### Generate new lyrics"
      ]
    },
    {
      "cell_type": "markdown",
      "metadata": {
        "id": "eZ4z_3mIBQDh"
      },
      "source": [
        "Finally, we can use the trained model to generate some new lyrics in the style of The Beatles"
      ]
    },
    {
      "cell_type": "code",
      "execution_count": 8,
      "metadata": {
        "colab": {
          "base_uri": "https://localhost:8080/"
        },
        "id": "j3jp0GSInS0K",
        "outputId": "d6982f9d-1d75-42dd-8c5d-192d776293c7"
      },
      "outputs": [
        {
          "name": "stdout",
          "output_type": "stream",
          "text": [
            "Why don't you love me\n",
            "I'm waiting here\n",
            "Don't pass me by\n",
            "Don't make me cry\n",
            "Don't make me blue\n",
            "'Cause you know, darling, darling, I'm the taxman\n",
            "And you're by the end, little girl\n",
            "Catch she had with another man\n",
            "That\n",
            "That's the end, little girl\n",
            "opened up places the he end, I could say across the the Atlantic\n",
            "To where you're I meant to be\n",
            "It's easy\n",
            "\n",
            "All being\n"
          ]
        }
      ],
      "source": [
        "# Input\n",
        "prompt = \"Why don't you love me\"\n",
        "num_tokens = 150\n",
        "temp = 1\n",
        "enc_prompt = torch.tensor(data_processor.int_encoder(prompt))\n",
        "\n",
        "# Generate Lyrics\n",
        "out = model.generate_text(enc_prompt, num_tokens, sequence_length, temp, device)\n",
        "print(data_processor.int_decoder(out))"
      ]
    }
  ],
  "metadata": {
    "accelerator": "GPU",
    "colab": {
      "collapsed_sections": [
        "WQx-jKo1K3Mn"
      ],
      "provenance": []
    },
    "gpuClass": "standard",
    "kernelspec": {
      "display_name": "Python 3.9.13 ('base')",
      "language": "python",
      "name": "python3"
    },
    "language_info": {
      "codemirror_mode": {
        "name": "ipython",
        "version": 3
      },
      "file_extension": ".py",
      "mimetype": "text/x-python",
      "name": "python",
      "nbconvert_exporter": "python",
      "pygments_lexer": "ipython3",
      "version": "3.9.13"
    },
    "orig_nbformat": 4,
    "vscode": {
      "interpreter": {
        "hash": "494a86e8aa439212fafd9bb78ed376cbfc46178bff14132341b0aaebde3db49f"
      }
    },
    "widgets": {
      "application/vnd.jupyter.widget-state+json": {
        "1c92e78753a842dfb7f7c3c85af4b332": {
          "model_module": "@jupyter-widgets/base",
          "model_module_version": "1.2.0",
          "model_name": "LayoutModel",
          "state": {
            "_model_module": "@jupyter-widgets/base",
            "_model_module_version": "1.2.0",
            "_model_name": "LayoutModel",
            "_view_count": null,
            "_view_module": "@jupyter-widgets/base",
            "_view_module_version": "1.2.0",
            "_view_name": "LayoutView",
            "align_content": null,
            "align_items": null,
            "align_self": null,
            "border": null,
            "bottom": null,
            "display": null,
            "flex": null,
            "flex_flow": null,
            "grid_area": null,
            "grid_auto_columns": null,
            "grid_auto_flow": null,
            "grid_auto_rows": null,
            "grid_column": null,
            "grid_gap": null,
            "grid_row": null,
            "grid_template_areas": null,
            "grid_template_columns": null,
            "grid_template_rows": null,
            "height": null,
            "justify_content": null,
            "justify_items": null,
            "left": null,
            "margin": null,
            "max_height": null,
            "max_width": null,
            "min_height": null,
            "min_width": null,
            "object_fit": null,
            "object_position": null,
            "order": null,
            "overflow": null,
            "overflow_x": null,
            "overflow_y": null,
            "padding": null,
            "right": null,
            "top": null,
            "visibility": null,
            "width": null
          }
        },
        "1d6dc3821297455d804c1c0ddf5d6fcb": {
          "model_module": "@jupyter-widgets/controls",
          "model_module_version": "1.5.0",
          "model_name": "HBoxModel",
          "state": {
            "_dom_classes": [],
            "_model_module": "@jupyter-widgets/controls",
            "_model_module_version": "1.5.0",
            "_model_name": "HBoxModel",
            "_view_count": null,
            "_view_module": "@jupyter-widgets/controls",
            "_view_module_version": "1.5.0",
            "_view_name": "HBoxView",
            "box_style": "",
            "children": [
              "IPY_MODEL_e292be7255e14423a362a2032b802d4a",
              "IPY_MODEL_fe7884398061448e80559d691271a636",
              "IPY_MODEL_dbbe636f0df240b58318e65b04774630"
            ],
            "layout": "IPY_MODEL_6d43e970f4f5403c8132c7db014c827d"
          }
        },
        "1f174ed30cc446ec9582080fe4de3731": {
          "model_module": "@jupyter-widgets/controls",
          "model_module_version": "1.5.0",
          "model_name": "ProgressStyleModel",
          "state": {
            "_model_module": "@jupyter-widgets/controls",
            "_model_module_version": "1.5.0",
            "_model_name": "ProgressStyleModel",
            "_view_count": null,
            "_view_module": "@jupyter-widgets/base",
            "_view_module_version": "1.2.0",
            "_view_name": "StyleView",
            "bar_color": null,
            "description_width": ""
          }
        },
        "2571b3813cd547d0bacf29ba29091594": {
          "model_module": "@jupyter-widgets/base",
          "model_module_version": "1.2.0",
          "model_name": "LayoutModel",
          "state": {
            "_model_module": "@jupyter-widgets/base",
            "_model_module_version": "1.2.0",
            "_model_name": "LayoutModel",
            "_view_count": null,
            "_view_module": "@jupyter-widgets/base",
            "_view_module_version": "1.2.0",
            "_view_name": "LayoutView",
            "align_content": null,
            "align_items": null,
            "align_self": null,
            "border": null,
            "bottom": null,
            "display": null,
            "flex": null,
            "flex_flow": null,
            "grid_area": null,
            "grid_auto_columns": null,
            "grid_auto_flow": null,
            "grid_auto_rows": null,
            "grid_column": null,
            "grid_gap": null,
            "grid_row": null,
            "grid_template_areas": null,
            "grid_template_columns": null,
            "grid_template_rows": null,
            "height": null,
            "justify_content": null,
            "justify_items": null,
            "left": null,
            "margin": null,
            "max_height": null,
            "max_width": null,
            "min_height": null,
            "min_width": null,
            "object_fit": null,
            "object_position": null,
            "order": null,
            "overflow": null,
            "overflow_x": null,
            "overflow_y": null,
            "padding": null,
            "right": null,
            "top": null,
            "visibility": null,
            "width": null
          }
        },
        "2f7c94c860e44bae8595938c1e5c83c2": {
          "model_module": "@jupyter-widgets/controls",
          "model_module_version": "1.5.0",
          "model_name": "DescriptionStyleModel",
          "state": {
            "_model_module": "@jupyter-widgets/controls",
            "_model_module_version": "1.5.0",
            "_model_name": "DescriptionStyleModel",
            "_view_count": null,
            "_view_module": "@jupyter-widgets/base",
            "_view_module_version": "1.2.0",
            "_view_name": "StyleView",
            "description_width": ""
          }
        },
        "3c14ee5617d447828e38f50a9a6ac6e4": {
          "model_module": "@jupyter-widgets/base",
          "model_module_version": "1.2.0",
          "model_name": "LayoutModel",
          "state": {
            "_model_module": "@jupyter-widgets/base",
            "_model_module_version": "1.2.0",
            "_model_name": "LayoutModel",
            "_view_count": null,
            "_view_module": "@jupyter-widgets/base",
            "_view_module_version": "1.2.0",
            "_view_name": "LayoutView",
            "align_content": null,
            "align_items": null,
            "align_self": null,
            "border": null,
            "bottom": null,
            "display": null,
            "flex": null,
            "flex_flow": null,
            "grid_area": null,
            "grid_auto_columns": null,
            "grid_auto_flow": null,
            "grid_auto_rows": null,
            "grid_column": null,
            "grid_gap": null,
            "grid_row": null,
            "grid_template_areas": null,
            "grid_template_columns": null,
            "grid_template_rows": null,
            "height": null,
            "justify_content": null,
            "justify_items": null,
            "left": null,
            "margin": null,
            "max_height": null,
            "max_width": null,
            "min_height": null,
            "min_width": null,
            "object_fit": null,
            "object_position": null,
            "order": null,
            "overflow": null,
            "overflow_x": null,
            "overflow_y": null,
            "padding": null,
            "right": null,
            "top": null,
            "visibility": null,
            "width": null
          }
        },
        "55d9ba6821754aa8ad30da2d3fdb95a2": {
          "model_module": "@jupyter-widgets/controls",
          "model_module_version": "1.5.0",
          "model_name": "HTMLModel",
          "state": {
            "_dom_classes": [],
            "_model_module": "@jupyter-widgets/controls",
            "_model_module_version": "1.5.0",
            "_model_name": "HTMLModel",
            "_view_count": null,
            "_view_module": "@jupyter-widgets/controls",
            "_view_module_version": "1.5.0",
            "_view_name": "HTMLView",
            "description": "",
            "description_tooltip": null,
            "layout": "IPY_MODEL_8d6619d2816e4204b6788ac068951c33",
            "placeholder": "​",
            "style": "IPY_MODEL_a025046422764ab4bc295eb69a40bdc9",
            "value": " 1180/1180 [02:02&lt;00:00,  9.37it/s]"
          }
        },
        "6d43e970f4f5403c8132c7db014c827d": {
          "model_module": "@jupyter-widgets/base",
          "model_module_version": "1.2.0",
          "model_name": "LayoutModel",
          "state": {
            "_model_module": "@jupyter-widgets/base",
            "_model_module_version": "1.2.0",
            "_model_name": "LayoutModel",
            "_view_count": null,
            "_view_module": "@jupyter-widgets/base",
            "_view_module_version": "1.2.0",
            "_view_name": "LayoutView",
            "align_content": null,
            "align_items": null,
            "align_self": null,
            "border": null,
            "bottom": null,
            "display": null,
            "flex": null,
            "flex_flow": null,
            "grid_area": null,
            "grid_auto_columns": null,
            "grid_auto_flow": null,
            "grid_auto_rows": null,
            "grid_column": null,
            "grid_gap": null,
            "grid_row": null,
            "grid_template_areas": null,
            "grid_template_columns": null,
            "grid_template_rows": null,
            "height": null,
            "justify_content": null,
            "justify_items": null,
            "left": null,
            "margin": null,
            "max_height": null,
            "max_width": null,
            "min_height": null,
            "min_width": null,
            "object_fit": null,
            "object_position": null,
            "order": null,
            "overflow": null,
            "overflow_x": null,
            "overflow_y": null,
            "padding": null,
            "right": null,
            "top": null,
            "visibility": null,
            "width": null
          }
        },
        "83d46cc71db244aab6b28cdb7cc5a783": {
          "model_module": "@jupyter-widgets/controls",
          "model_module_version": "1.5.0",
          "model_name": "HTMLModel",
          "state": {
            "_dom_classes": [],
            "_model_module": "@jupyter-widgets/controls",
            "_model_module_version": "1.5.0",
            "_model_name": "HTMLModel",
            "_view_count": null,
            "_view_module": "@jupyter-widgets/controls",
            "_view_module_version": "1.5.0",
            "_view_name": "HTMLView",
            "description": "",
            "description_tooltip": null,
            "layout": "IPY_MODEL_2571b3813cd547d0bacf29ba29091594",
            "placeholder": "​",
            "style": "IPY_MODEL_e6268931161642ac97ebba371b113957",
            "value": "Epoch 1. Train Loss: 2.42.: 100%"
          }
        },
        "896e600b26e94e2bbc0d80f129397770": {
          "model_module": "@jupyter-widgets/controls",
          "model_module_version": "1.5.0",
          "model_name": "HBoxModel",
          "state": {
            "_dom_classes": [],
            "_model_module": "@jupyter-widgets/controls",
            "_model_module_version": "1.5.0",
            "_model_name": "HBoxModel",
            "_view_count": null,
            "_view_module": "@jupyter-widgets/controls",
            "_view_module_version": "1.5.0",
            "_view_name": "HBoxView",
            "box_style": "",
            "children": [
              "IPY_MODEL_83d46cc71db244aab6b28cdb7cc5a783",
              "IPY_MODEL_97e60be9597640129e028c7e69eee131",
              "IPY_MODEL_55d9ba6821754aa8ad30da2d3fdb95a2"
            ],
            "layout": "IPY_MODEL_c6bd686b7ec84c3c82efa2796ad6ea51"
          }
        },
        "8d6619d2816e4204b6788ac068951c33": {
          "model_module": "@jupyter-widgets/base",
          "model_module_version": "1.2.0",
          "model_name": "LayoutModel",
          "state": {
            "_model_module": "@jupyter-widgets/base",
            "_model_module_version": "1.2.0",
            "_model_name": "LayoutModel",
            "_view_count": null,
            "_view_module": "@jupyter-widgets/base",
            "_view_module_version": "1.2.0",
            "_view_name": "LayoutView",
            "align_content": null,
            "align_items": null,
            "align_self": null,
            "border": null,
            "bottom": null,
            "display": null,
            "flex": null,
            "flex_flow": null,
            "grid_area": null,
            "grid_auto_columns": null,
            "grid_auto_flow": null,
            "grid_auto_rows": null,
            "grid_column": null,
            "grid_gap": null,
            "grid_row": null,
            "grid_template_areas": null,
            "grid_template_columns": null,
            "grid_template_rows": null,
            "height": null,
            "justify_content": null,
            "justify_items": null,
            "left": null,
            "margin": null,
            "max_height": null,
            "max_width": null,
            "min_height": null,
            "min_width": null,
            "object_fit": null,
            "object_position": null,
            "order": null,
            "overflow": null,
            "overflow_x": null,
            "overflow_y": null,
            "padding": null,
            "right": null,
            "top": null,
            "visibility": null,
            "width": null
          }
        },
        "97e60be9597640129e028c7e69eee131": {
          "model_module": "@jupyter-widgets/controls",
          "model_module_version": "1.5.0",
          "model_name": "FloatProgressModel",
          "state": {
            "_dom_classes": [],
            "_model_module": "@jupyter-widgets/controls",
            "_model_module_version": "1.5.0",
            "_model_name": "FloatProgressModel",
            "_view_count": null,
            "_view_module": "@jupyter-widgets/controls",
            "_view_module_version": "1.5.0",
            "_view_name": "ProgressView",
            "bar_style": "success",
            "description": "",
            "description_tooltip": null,
            "layout": "IPY_MODEL_c0a1954608d347e2b3730c6948ebdc8d",
            "max": 1180,
            "min": 0,
            "orientation": "horizontal",
            "style": "IPY_MODEL_1f174ed30cc446ec9582080fe4de3731",
            "value": 1180
          }
        },
        "a025046422764ab4bc295eb69a40bdc9": {
          "model_module": "@jupyter-widgets/controls",
          "model_module_version": "1.5.0",
          "model_name": "DescriptionStyleModel",
          "state": {
            "_model_module": "@jupyter-widgets/controls",
            "_model_module_version": "1.5.0",
            "_model_name": "DescriptionStyleModel",
            "_view_count": null,
            "_view_module": "@jupyter-widgets/base",
            "_view_module_version": "1.2.0",
            "_view_name": "StyleView",
            "description_width": ""
          }
        },
        "b29dd91b70e040678eeea05679ebe92e": {
          "model_module": "@jupyter-widgets/controls",
          "model_module_version": "1.5.0",
          "model_name": "ProgressStyleModel",
          "state": {
            "_model_module": "@jupyter-widgets/controls",
            "_model_module_version": "1.5.0",
            "_model_name": "ProgressStyleModel",
            "_view_count": null,
            "_view_module": "@jupyter-widgets/base",
            "_view_module_version": "1.2.0",
            "_view_name": "StyleView",
            "bar_color": null,
            "description_width": ""
          }
        },
        "c0a1954608d347e2b3730c6948ebdc8d": {
          "model_module": "@jupyter-widgets/base",
          "model_module_version": "1.2.0",
          "model_name": "LayoutModel",
          "state": {
            "_model_module": "@jupyter-widgets/base",
            "_model_module_version": "1.2.0",
            "_model_name": "LayoutModel",
            "_view_count": null,
            "_view_module": "@jupyter-widgets/base",
            "_view_module_version": "1.2.0",
            "_view_name": "LayoutView",
            "align_content": null,
            "align_items": null,
            "align_self": null,
            "border": null,
            "bottom": null,
            "display": null,
            "flex": null,
            "flex_flow": null,
            "grid_area": null,
            "grid_auto_columns": null,
            "grid_auto_flow": null,
            "grid_auto_rows": null,
            "grid_column": null,
            "grid_gap": null,
            "grid_row": null,
            "grid_template_areas": null,
            "grid_template_columns": null,
            "grid_template_rows": null,
            "height": null,
            "justify_content": null,
            "justify_items": null,
            "left": null,
            "margin": null,
            "max_height": null,
            "max_width": null,
            "min_height": null,
            "min_width": null,
            "object_fit": null,
            "object_position": null,
            "order": null,
            "overflow": null,
            "overflow_x": null,
            "overflow_y": null,
            "padding": null,
            "right": null,
            "top": null,
            "visibility": null,
            "width": null
          }
        },
        "c6bd686b7ec84c3c82efa2796ad6ea51": {
          "model_module": "@jupyter-widgets/base",
          "model_module_version": "1.2.0",
          "model_name": "LayoutModel",
          "state": {
            "_model_module": "@jupyter-widgets/base",
            "_model_module_version": "1.2.0",
            "_model_name": "LayoutModel",
            "_view_count": null,
            "_view_module": "@jupyter-widgets/base",
            "_view_module_version": "1.2.0",
            "_view_name": "LayoutView",
            "align_content": null,
            "align_items": null,
            "align_self": null,
            "border": null,
            "bottom": null,
            "display": null,
            "flex": null,
            "flex_flow": null,
            "grid_area": null,
            "grid_auto_columns": null,
            "grid_auto_flow": null,
            "grid_auto_rows": null,
            "grid_column": null,
            "grid_gap": null,
            "grid_row": null,
            "grid_template_areas": null,
            "grid_template_columns": null,
            "grid_template_rows": null,
            "height": null,
            "justify_content": null,
            "justify_items": null,
            "left": null,
            "margin": null,
            "max_height": null,
            "max_width": null,
            "min_height": null,
            "min_width": null,
            "object_fit": null,
            "object_position": null,
            "order": null,
            "overflow": null,
            "overflow_x": null,
            "overflow_y": null,
            "padding": null,
            "right": null,
            "top": null,
            "visibility": null,
            "width": null
          }
        },
        "dbbe636f0df240b58318e65b04774630": {
          "model_module": "@jupyter-widgets/controls",
          "model_module_version": "1.5.0",
          "model_name": "HTMLModel",
          "state": {
            "_dom_classes": [],
            "_model_module": "@jupyter-widgets/controls",
            "_model_module_version": "1.5.0",
            "_model_name": "HTMLModel",
            "_view_count": null,
            "_view_module": "@jupyter-widgets/controls",
            "_view_module_version": "1.5.0",
            "_view_name": "HTMLView",
            "description": "",
            "description_tooltip": null,
            "layout": "IPY_MODEL_1c92e78753a842dfb7f7c3c85af4b332",
            "placeholder": "​",
            "style": "IPY_MODEL_e3e2821c38b645e0995d2c042209572b",
            "value": " 1180/1180 [02:05&lt;00:00,  9.40it/s]"
          }
        },
        "e292be7255e14423a362a2032b802d4a": {
          "model_module": "@jupyter-widgets/controls",
          "model_module_version": "1.5.0",
          "model_name": "HTMLModel",
          "state": {
            "_dom_classes": [],
            "_model_module": "@jupyter-widgets/controls",
            "_model_module_version": "1.5.0",
            "_model_name": "HTMLModel",
            "_view_count": null,
            "_view_module": "@jupyter-widgets/controls",
            "_view_module_version": "1.5.0",
            "_view_name": "HTMLView",
            "description": "",
            "description_tooltip": null,
            "layout": "IPY_MODEL_e6b2047cd26944d782b4c3ba5cb42cde",
            "placeholder": "​",
            "style": "IPY_MODEL_2f7c94c860e44bae8595938c1e5c83c2",
            "value": "Epoch 2. Train Loss: 0.76.: 100%"
          }
        },
        "e3e2821c38b645e0995d2c042209572b": {
          "model_module": "@jupyter-widgets/controls",
          "model_module_version": "1.5.0",
          "model_name": "DescriptionStyleModel",
          "state": {
            "_model_module": "@jupyter-widgets/controls",
            "_model_module_version": "1.5.0",
            "_model_name": "DescriptionStyleModel",
            "_view_count": null,
            "_view_module": "@jupyter-widgets/base",
            "_view_module_version": "1.2.0",
            "_view_name": "StyleView",
            "description_width": ""
          }
        },
        "e6268931161642ac97ebba371b113957": {
          "model_module": "@jupyter-widgets/controls",
          "model_module_version": "1.5.0",
          "model_name": "DescriptionStyleModel",
          "state": {
            "_model_module": "@jupyter-widgets/controls",
            "_model_module_version": "1.5.0",
            "_model_name": "DescriptionStyleModel",
            "_view_count": null,
            "_view_module": "@jupyter-widgets/base",
            "_view_module_version": "1.2.0",
            "_view_name": "StyleView",
            "description_width": ""
          }
        },
        "e6b2047cd26944d782b4c3ba5cb42cde": {
          "model_module": "@jupyter-widgets/base",
          "model_module_version": "1.2.0",
          "model_name": "LayoutModel",
          "state": {
            "_model_module": "@jupyter-widgets/base",
            "_model_module_version": "1.2.0",
            "_model_name": "LayoutModel",
            "_view_count": null,
            "_view_module": "@jupyter-widgets/base",
            "_view_module_version": "1.2.0",
            "_view_name": "LayoutView",
            "align_content": null,
            "align_items": null,
            "align_self": null,
            "border": null,
            "bottom": null,
            "display": null,
            "flex": null,
            "flex_flow": null,
            "grid_area": null,
            "grid_auto_columns": null,
            "grid_auto_flow": null,
            "grid_auto_rows": null,
            "grid_column": null,
            "grid_gap": null,
            "grid_row": null,
            "grid_template_areas": null,
            "grid_template_columns": null,
            "grid_template_rows": null,
            "height": null,
            "justify_content": null,
            "justify_items": null,
            "left": null,
            "margin": null,
            "max_height": null,
            "max_width": null,
            "min_height": null,
            "min_width": null,
            "object_fit": null,
            "object_position": null,
            "order": null,
            "overflow": null,
            "overflow_x": null,
            "overflow_y": null,
            "padding": null,
            "right": null,
            "top": null,
            "visibility": null,
            "width": null
          }
        },
        "fe7884398061448e80559d691271a636": {
          "model_module": "@jupyter-widgets/controls",
          "model_module_version": "1.5.0",
          "model_name": "FloatProgressModel",
          "state": {
            "_dom_classes": [],
            "_model_module": "@jupyter-widgets/controls",
            "_model_module_version": "1.5.0",
            "_model_name": "FloatProgressModel",
            "_view_count": null,
            "_view_module": "@jupyter-widgets/controls",
            "_view_module_version": "1.5.0",
            "_view_name": "ProgressView",
            "bar_style": "success",
            "description": "",
            "description_tooltip": null,
            "layout": "IPY_MODEL_3c14ee5617d447828e38f50a9a6ac6e4",
            "max": 1180,
            "min": 0,
            "orientation": "horizontal",
            "style": "IPY_MODEL_b29dd91b70e040678eeea05679ebe92e",
            "value": 1180
          }
        }
      }
    }
  },
  "nbformat": 4,
  "nbformat_minor": 0
}
