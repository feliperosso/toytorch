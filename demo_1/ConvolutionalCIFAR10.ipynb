{
  "cells": [
    {
      "cell_type": "markdown",
      "metadata": {
        "id": "Fy1Z9IhoTFkT"
      },
      "source": [
        " # <u> CIFAR10 classification with a convolutional network <u>"
      ]
    },
    {
      "cell_type": "markdown",
      "metadata": {
        "id": "cxOCeVF-TFkT"
      },
      "source": [
        "In this notebook we are going to train a convolutional neural network on \n",
        "the CIFAR10 dataset (https://www.cs.toronto.edu/~kriz/cifar.html). The dataset consists of\n",
        "60k 32x32 RGB images in 10 different classes:\n",
        "\n",
        "1. Airplane\n",
        "2. Automobile\n",
        "3. Bird\n",
        "4. Cat\n",
        "5. Deer\n",
        "6. Dog\n",
        "7. Frog\n",
        "8. Horse\n",
        "9. Ship\n",
        "10. Truck"
      ]
    },
    {
      "cell_type": "code",
      "execution_count": 2,
      "metadata": {
        "id": "jTipKYzKgaZ3"
      },
      "outputs": [],
      "source": [
        "# Load packages\n",
        "import random, torch\n",
        "from toytorch.datasets.load import load_CIFAR10_data, plot_CIFAR10_data\n",
        "from toytorch.models import Conv_CIFAR10"
      ]
    },
    {
      "cell_type": "markdown",
      "metadata": {
        "id": "3bWUwt09TFkU"
      },
      "source": [
        "### <u> Load Data<u>"
      ]
    },
    {
      "cell_type": "markdown",
      "metadata": {
        "id": "9FB-0jkGTFkU"
      },
      "source": [
        "Let us start by importing the data (which has been already saved in the toytorch package)\n",
        "using the loader in toytorch"
      ]
    },
    {
      "cell_type": "code",
      "execution_count": 3,
      "metadata": {
        "colab": {
          "base_uri": "https://localhost:8080/",
          "height": 452
        },
        "id": "k-1XM7fUTFkU",
        "outputId": "66ba6dc1-7526-46f5-ceaf-b52b67b110df"
      },
      "outputs": [
        {
          "data": {
            "image/png": "[encoded data removed]",
            "text/plain": [
              "<Figure size 640x480 with 1 Axes>"
            ]
          },
          "metadata": {},
          "output_type": "display_data"
        }
      ],
      "source": [
        "# Load the CIFAR10 Data\n",
        "train_data, validation_data, test_data, label_dictionary = load_CIFAR10_data()\n",
        "data = [train_data, validation_data, test_data]\n",
        "\n",
        "# Plot a random image with its label\n",
        "rnd = random.randint(0, len(train_data[0]))\n",
        "plot_CIFAR10_data(train_data[0][rnd], train_data[1][rnd], label_dictionary)"
      ]
    },
    {
      "cell_type": "markdown",
      "metadata": {
        "id": "6kjQK7epTFkV"
      },
      "source": [
        "The 60k images have been splitted as (train, validation, test) = (40k, 10k, 10k)."
      ]
    },
    {
      "cell_type": "markdown",
      "metadata": {
        "id": "_aOEoBFkTFkV"
      },
      "source": [
        "### <u> Initialize Model <u>"
      ]
    },
    {
      "cell_type": "markdown",
      "metadata": {
        "id": "KI2spJGCTFkW"
      },
      "source": [
        "We are now going to use a convolutional neural network \"Conv_CIFAR10\" built in the toytorch module \"models.py\". \n",
        "This model corresponds to a particular combination of convolutional, pooling, linear and dropout layers, all obtained from the module \"layers.py\"."
      ]
    },
    {
      "cell_type": "code",
      "execution_count": 4,
      "metadata": {
        "colab": {
          "base_uri": "https://localhost:8080/"
        },
        "id": "eNMrFmISTFkW",
        "outputId": "5f7d2d65-0d19-4e7e-b286-907b44a0ec46"
      },
      "outputs": [
        {
          "name": "stdout",
          "output_type": "stream",
          "text": [
            "Number of parameters in model: 2,125,082\n"
          ]
        }
      ],
      "source": [
        "# Model Parameters\n",
        "n_channels = [16, 32]\n",
        "num_classes = 10\n",
        "dropout_rate = 0.1\n",
        "\n",
        "# Initialize Model\n",
        "CIFAR10_model = Conv_CIFAR10(n_channels, num_classes, dropout_rate)"
      ]
    },
    {
      "cell_type": "markdown",
      "metadata": {
        "id": "geHApYRITFkW"
      },
      "source": [
        "### <u> Train Model <u>"
      ]
    },
    {
      "cell_type": "markdown",
      "metadata": {
        "id": "PQrt_GlrTFkW"
      },
      "source": [
        "To efficiently train the model, it is convenient to use a GPU. We must therefore import the torch package and set the device \n",
        "to 'cuda'. Using also a torch Adam optimizer, we apply the \"train_model\" method in the CIFAR10 model (see \"models.py\" for details)"
      ]
    },
    {
      "cell_type": "code",
      "execution_count": 5,
      "metadata": {
        "colab": {
          "base_uri": "https://localhost:8080/",
          "height": 522,
          "referenced_widgets": [
            "ed94d8a7e24b428ca01c808a5ad2267f",
            "a31ab45975754f46bbaee5c73e3bf8be",
            "17b872851bd049b89fea4d98e381891b",
            "c2cf63b2c67340eb856f458c0654fa6a",
            "a221d495c5df4e9a84c435de1bcdba33",
            "761b36656a174261b622a488f97e6357",
            "2cb9c914cb824f7ebbe972779699a67b",
            "c5363592bfa943dbb018f862632b40d7",
            "c25e304dd0ce48ed86b56c5da6a32377",
            "0bb69e0d5fb24922b9aac4c48093d3b0",
            "8f76ef180283442bbea9c54a65fe4d77"
          ]
        },
        "id": "XZIvS8seTFkX",
        "outputId": "6bb78f10-5a57-4a0f-e3ca-8ac61f636e0e"
      },
      "outputs": [
        {
          "name": "stdout",
          "output_type": "stream",
          "text": [
            "The device is: cuda\n"
          ]
        },
        {
          "data": {
            "application/vnd.jupyter.widget-view+json": {
              "model_id": "ed94d8a7e24b428ca01c808a5ad2267f",
              "version_major": 2,
              "version_minor": 0
            },
            "text/plain": [
              "  0%|          | 0/30 [00:00<?, ?it/s]"
            ]
          },
          "metadata": {},
          "output_type": "display_data"
        },
        {
          "data": {
            "image/png": "[encoded data removed]",
            "text/plain": [
              "<Figure size 640x480 with 1 Axes>"
            ]
          },
          "metadata": {},
          "output_type": "display_data"
        }
      ],
      "source": [
        "# Set device to GPU (if available) to speed training\n",
        "device = torch.device('cuda' if torch.cuda.is_available() else 'cpu')\n",
        "print(f'The device is: {device}')\n",
        "\n",
        "# Parameters\n",
        "optimizer = torch.optim.Adam(CIFAR10_model.parameters(), lr=5e-3)\n",
        "epochs = 30\n",
        "batch_size = 250\n",
        "\n",
        "# Train\n",
        "output = CIFAR10_model.train_model(data, optimizer, epochs, batch_size,\n",
        "                                   device, learning_schedule=True, \n",
        "                                   save='CIFAR10_final_model')\n",
        "\n",
        "global_training_time, stochastic_training_loss, validation_accuracy = output                                            "
      ]
    },
    {
      "cell_type": "markdown",
      "metadata": {
        "id": "MmSA1mJsUcns"
      },
      "source": [
        "As expected, the loss evaluated on the training data decreases as the model is trained. On the other hand, the validation accuracy only improved up to epoch fourteen, meaning the model was overfitting after that. \n",
        "\n",
        "Our final model is the one with the highest validation accuracy, saved as 'CIFAR10_final_model'. Using such model we evaluate the accuracy on the test data."
      ]
    }
  ],
  "metadata": {
    "accelerator": "GPU",
    "colab": {
      "collapsed_sections": [
        "y9kEfBeaRnY2"
      ],
      "provenance": []
    },
    "gpuClass": "standard",
    "kernelspec": {
      "display_name": "Python 3.9.13 ('base')",
      "language": "python",
      "name": "python3"
    },
    "language_info": {
      "codemirror_mode": {
        "name": "ipython",
        "version": 3
      },
      "file_extension": ".py",
      "mimetype": "text/x-python",
      "name": "python",
      "nbconvert_exporter": "python",
      "pygments_lexer": "ipython3",
      "version": "3.9.13"
    },
    "orig_nbformat": 4,
    "vscode": {
      "interpreter": {
        "hash": "494a86e8aa439212fafd9bb78ed376cbfc46178bff14132341b0aaebde3db49f"
      }
    },
    "widgets": {
      "application/vnd.jupyter.widget-state+json": {
        "0bb69e0d5fb24922b9aac4c48093d3b0": {
          "model_module": "@jupyter-widgets/base",
          "model_module_version": "1.2.0",
          "model_name": "LayoutModel",
          "state": {
            "_model_module": "@jupyter-widgets/base",
            "_model_module_version": "1.2.0",
            "_model_name": "LayoutModel",
            "_view_count": null,
            "_view_module": "@jupyter-widgets/base",
            "_view_module_version": "1.2.0",
            "_view_name": "LayoutView",
            "align_content": null,
            "align_items": null,
            "align_self": null,
            "border": null,
            "bottom": null,
            "display": null,
            "flex": null,
            "flex_flow": null,
            "grid_area": null,
            "grid_auto_columns": null,
            "grid_auto_flow": null,
            "grid_auto_rows": null,
            "grid_column": null,
            "grid_gap": null,
            "grid_row": null,
            "grid_template_areas": null,
            "grid_template_columns": null,
            "grid_template_rows": null,
            "height": null,
            "justify_content": null,
            "justify_items": null,
            "left": null,
            "margin": null,
            "max_height": null,
            "max_width": null,
            "min_height": null,
            "min_width": null,
            "object_fit": null,
            "object_position": null,
            "order": null,
            "overflow": null,
            "overflow_x": null,
            "overflow_y": null,
            "padding": null,
            "right": null,
            "top": null,
            "visibility": null,
            "width": null
          }
        },
        "17b872851bd049b89fea4d98e381891b": {
          "model_module": "@jupyter-widgets/controls",
          "model_module_version": "1.5.0",
          "model_name": "FloatProgressModel",
          "state": {
            "_dom_classes": [],
            "_model_module": "@jupyter-widgets/controls",
            "_model_module_version": "1.5.0",
            "_model_name": "FloatProgressModel",
            "_view_count": null,
            "_view_module": "@jupyter-widgets/controls",
            "_view_module_version": "1.5.0",
            "_view_name": "ProgressView",
            "bar_style": "success",
            "description": "",
            "description_tooltip": null,
            "layout": "IPY_MODEL_c5363592bfa943dbb018f862632b40d7",
            "max": 30,
            "min": 0,
            "orientation": "horizontal",
            "style": "IPY_MODEL_c25e304dd0ce48ed86b56c5da6a32377",
            "value": 30
          }
        },
        "2cb9c914cb824f7ebbe972779699a67b": {
          "model_module": "@jupyter-widgets/controls",
          "model_module_version": "1.5.0",
          "model_name": "DescriptionStyleModel",
          "state": {
            "_model_module": "@jupyter-widgets/controls",
            "_model_module_version": "1.5.0",
            "_model_name": "DescriptionStyleModel",
            "_view_count": null,
            "_view_module": "@jupyter-widgets/base",
            "_view_module_version": "1.2.0",
            "_view_name": "StyleView",
            "description_width": ""
          }
        },
        "761b36656a174261b622a488f97e6357": {
          "model_module": "@jupyter-widgets/base",
          "model_module_version": "1.2.0",
          "model_name": "LayoutModel",
          "state": {
            "_model_module": "@jupyter-widgets/base",
            "_model_module_version": "1.2.0",
            "_model_name": "LayoutModel",
            "_view_count": null,
            "_view_module": "@jupyter-widgets/base",
            "_view_module_version": "1.2.0",
            "_view_name": "LayoutView",
            "align_content": null,
            "align_items": null,
            "align_self": null,
            "border": null,
            "bottom": null,
            "display": null,
            "flex": null,
            "flex_flow": null,
            "grid_area": null,
            "grid_auto_columns": null,
            "grid_auto_flow": null,
            "grid_auto_rows": null,
            "grid_column": null,
            "grid_gap": null,
            "grid_row": null,
            "grid_template_areas": null,
            "grid_template_columns": null,
            "grid_template_rows": null,
            "height": null,
            "justify_content": null,
            "justify_items": null,
            "left": null,
            "margin": null,
            "max_height": null,
            "max_width": null,
            "min_height": null,
            "min_width": null,
            "object_fit": null,
            "object_position": null,
            "order": null,
            "overflow": null,
            "overflow_x": null,
            "overflow_y": null,
            "padding": null,
            "right": null,
            "top": null,
            "visibility": null,
            "width": null
          }
        },
        "8f76ef180283442bbea9c54a65fe4d77": {
          "model_module": "@jupyter-widgets/controls",
          "model_module_version": "1.5.0",
          "model_name": "DescriptionStyleModel",
          "state": {
            "_model_module": "@jupyter-widgets/controls",
            "_model_module_version": "1.5.0",
            "_model_name": "DescriptionStyleModel",
            "_view_count": null,
            "_view_module": "@jupyter-widgets/base",
            "_view_module_version": "1.2.0",
            "_view_name": "StyleView",
            "description_width": ""
          }
        },
        "a221d495c5df4e9a84c435de1bcdba33": {
          "model_module": "@jupyter-widgets/base",
          "model_module_version": "1.2.0",
          "model_name": "LayoutModel",
          "state": {
            "_model_module": "@jupyter-widgets/base",
            "_model_module_version": "1.2.0",
            "_model_name": "LayoutModel",
            "_view_count": null,
            "_view_module": "@jupyter-widgets/base",
            "_view_module_version": "1.2.0",
            "_view_name": "LayoutView",
            "align_content": null,
            "align_items": null,
            "align_self": null,
            "border": null,
            "bottom": null,
            "display": null,
            "flex": null,
            "flex_flow": null,
            "grid_area": null,
            "grid_auto_columns": null,
            "grid_auto_flow": null,
            "grid_auto_rows": null,
            "grid_column": null,
            "grid_gap": null,
            "grid_row": null,
            "grid_template_areas": null,
            "grid_template_columns": null,
            "grid_template_rows": null,
            "height": null,
            "justify_content": null,
            "justify_items": null,
            "left": null,
            "margin": null,
            "max_height": null,
            "max_width": null,
            "min_height": null,
            "min_width": null,
            "object_fit": null,
            "object_position": null,
            "order": null,
            "overflow": null,
            "overflow_x": null,
            "overflow_y": null,
            "padding": null,
            "right": null,
            "top": null,
            "visibility": null,
            "width": null
          }
        },
        "a31ab45975754f46bbaee5c73e3bf8be": {
          "model_module": "@jupyter-widgets/controls",
          "model_module_version": "1.5.0",
          "model_name": "HTMLModel",
          "state": {
            "_dom_classes": [],
            "_model_module": "@jupyter-widgets/controls",
            "_model_module_version": "1.5.0",
            "_model_name": "HTMLModel",
            "_view_count": null,
            "_view_module": "@jupyter-widgets/controls",
            "_view_module_version": "1.5.0",
            "_view_name": "HTMLView",
            "description": "",
            "description_tooltip": null,
            "layout": "IPY_MODEL_761b36656a174261b622a488f97e6357",
            "placeholder": "​",
            "style": "IPY_MODEL_2cb9c914cb824f7ebbe972779699a67b",
            "value": "Train Loss: 0.26. Best Validation Accuracy/Epoch: 64.88/14: 100%"
          }
        },
        "c25e304dd0ce48ed86b56c5da6a32377": {
          "model_module": "@jupyter-widgets/controls",
          "model_module_version": "1.5.0",
          "model_name": "ProgressStyleModel",
          "state": {
            "_model_module": "@jupyter-widgets/controls",
            "_model_module_version": "1.5.0",
            "_model_name": "ProgressStyleModel",
            "_view_count": null,
            "_view_module": "@jupyter-widgets/base",
            "_view_module_version": "1.2.0",
            "_view_name": "StyleView",
            "bar_color": null,
            "description_width": ""
          }
        },
        "c2cf63b2c67340eb856f458c0654fa6a": {
          "model_module": "@jupyter-widgets/controls",
          "model_module_version": "1.5.0",
          "model_name": "HTMLModel",
          "state": {
            "_dom_classes": [],
            "_model_module": "@jupyter-widgets/controls",
            "_model_module_version": "1.5.0",
            "_model_name": "HTMLModel",
            "_view_count": null,
            "_view_module": "@jupyter-widgets/controls",
            "_view_module_version": "1.5.0",
            "_view_name": "HTMLView",
            "description": "",
            "description_tooltip": null,
            "layout": "IPY_MODEL_0bb69e0d5fb24922b9aac4c48093d3b0",
            "placeholder": "​",
            "style": "IPY_MODEL_8f76ef180283442bbea9c54a65fe4d77",
            "value": " 30/30 [07:33&lt;00:00, 15.03s/it]"
          }
        },
        "c5363592bfa943dbb018f862632b40d7": {
          "model_module": "@jupyter-widgets/base",
          "model_module_version": "1.2.0",
          "model_name": "LayoutModel",
          "state": {
            "_model_module": "@jupyter-widgets/base",
            "_model_module_version": "1.2.0",
            "_model_name": "LayoutModel",
            "_view_count": null,
            "_view_module": "@jupyter-widgets/base",
            "_view_module_version": "1.2.0",
            "_view_name": "LayoutView",
            "align_content": null,
            "align_items": null,
            "align_self": null,
            "border": null,
            "bottom": null,
            "display": null,
            "flex": null,
            "flex_flow": null,
            "grid_area": null,
            "grid_auto_columns": null,
            "grid_auto_flow": null,
            "grid_auto_rows": null,
            "grid_column": null,
            "grid_gap": null,
            "grid_row": null,
            "grid_template_areas": null,
            "grid_template_columns": null,
            "grid_template_rows": null,
            "height": null,
            "justify_content": null,
            "justify_items": null,
            "left": null,
            "margin": null,
            "max_height": null,
            "max_width": null,
            "min_height": null,
            "min_width": null,
            "object_fit": null,
            "object_position": null,
            "order": null,
            "overflow": null,
            "overflow_x": null,
            "overflow_y": null,
            "padding": null,
            "right": null,
            "top": null,
            "visibility": null,
            "width": null
          }
        },
        "ed94d8a7e24b428ca01c808a5ad2267f": {
          "model_module": "@jupyter-widgets/controls",
          "model_module_version": "1.5.0",
          "model_name": "HBoxModel",
          "state": {
            "_dom_classes": [],
            "_model_module": "@jupyter-widgets/controls",
            "_model_module_version": "1.5.0",
            "_model_name": "HBoxModel",
            "_view_count": null,
            "_view_module": "@jupyter-widgets/controls",
            "_view_module_version": "1.5.0",
            "_view_name": "HBoxView",
            "box_style": "",
            "children": [
              "IPY_MODEL_a31ab45975754f46bbaee5c73e3bf8be",
              "IPY_MODEL_17b872851bd049b89fea4d98e381891b",
              "IPY_MODEL_c2cf63b2c67340eb856f458c0654fa6a"
            ],
            "layout": "IPY_MODEL_a221d495c5df4e9a84c435de1bcdba33"
          }
        }
      }
    }
  },
  "nbformat": 4,
  "nbformat_minor": 0
}
